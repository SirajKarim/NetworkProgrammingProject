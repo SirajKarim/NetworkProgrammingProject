{
 "cells": [
  {
   "cell_type": "code",
   "execution_count": 1,
   "metadata": {},
   "outputs": [],
   "source": [
    "import scapy.all as scapy"
   ]
  },
  {
   "cell_type": "code",
   "execution_count": 2,
   "metadata": {},
   "outputs": [],
   "source": [
    "import argparse"
   ]
  },
  {
   "cell_type": "code",
   "execution_count": 3,
   "metadata": {},
   "outputs": [],
   "source": [
    "from scapy.layers import http"
   ]
  },
  {
   "cell_type": "code",
   "execution_count": 12,
   "metadata": {},
   "outputs": [],
   "source": [
    "def get_interface():\n",
    "    parser = argparse.ArgumentParser()\n",
    "    parser.add_argument(\"-i\",\"--interface\",dest=\"interface\",help=\"Specify interface on which to snifer packet\")\n",
    "    arguments = parser.parse_args()\n",
    "    return arguments.interface"
   ]
  },
  {
   "cell_type": "code",
   "execution_count": 13,
   "metadata": {},
   "outputs": [],
   "source": [
    "def sniff(iface):\n",
    "    scapy.sniff(iface=iface,store=false,prn=process_packet)\n",
    "    "
   ]
  },
  {
   "cell_type": "code",
   "execution_count": 14,
   "metadata": {},
   "outputs": [],
   "source": [
    "def process_packet(packet):\n",
    "    if packet.haslayar(http.HTTPRequest):\n",
    "        print(\"[+] Http Requests >>\"+packet[http.HttpRequest].Host + packet[http.HttpRequest].Path)\n",
    "        if packet.haslayer(scapy.Raw):\n",
    "            load = packet[scapy.Raw].load\n",
    "            keys = ['username','password','pass','email']\n",
    "            for key in keys:\n",
    "                if key in load:\n",
    "                    print(\"load\")\n",
    "                    print(\"[+] possible password/username >>>\"+ load)\n",
    "                    break"
   ]
  },
  {
   "cell_type": "code",
   "execution_count": 15,
   "metadata": {},
   "outputs": [
    {
     "name": "stderr",
     "output_type": "stream",
     "text": [
      "usage: ipykernel_launcher.py [-h] [-i INTERFACE]\n",
      "ipykernel_launcher.py: error: unrecognized arguments: -f /home/muhammadsiraj/.local/share/jupyter/runtime/kernel-c4b72603-6a6d-45a1-b397-f752b8b5faba.json\n"
     ]
    },
    {
     "ename": "SystemExit",
     "evalue": "2",
     "output_type": "error",
     "traceback": [
      "An exception has occurred, use %tb to see the full traceback.\n",
      "\u001b[0;31mSystemExit\u001b[0m\u001b[0;31m:\u001b[0m 2\n"
     ]
    },
    {
     "name": "stderr",
     "output_type": "stream",
     "text": [
      "/home/muhammadsiraj/anaconda3/lib/python3.7/site-packages/IPython/core/interactiveshell.py:3339: UserWarning: To exit: use 'exit', 'quit', or Ctrl-D.\n",
      "  warn(\"To exit: use 'exit', 'quit', or Ctrl-D.\", stacklevel=1)\n"
     ]
    }
   ],
   "source": [
    "iface = get_interface()\n",
    "sniff(iface)"
   ]
  },
  {
   "cell_type": "code",
   "execution_count": null,
   "metadata": {},
   "outputs": [],
   "source": []
  }
 ],
 "metadata": {
  "kernelspec": {
   "display_name": "Python 3",
   "language": "python",
   "name": "python3"
  },
  "language_info": {
   "codemirror_mode": {
    "name": "ipython",
    "version": 3
   },
   "file_extension": ".py",
   "mimetype": "text/x-python",
   "name": "python",
   "nbconvert_exporter": "python",
   "pygments_lexer": "ipython3",
   "version": "3.7.6"
  }
 },
 "nbformat": 4,
 "nbformat_minor": 4
}
